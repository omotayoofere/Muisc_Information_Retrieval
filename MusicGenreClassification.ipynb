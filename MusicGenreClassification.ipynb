{
  "cells": [
    {
      "cell_type": "markdown",
      "metadata": {
        "id": "view-in-github",
        "colab_type": "text"
      },
      "source": [
        "<a href=\"https://colab.research.google.com/github/omotayoofere/Muisc_Information_Retrieval/blob/main/MusicGenreClassification.ipynb\" target=\"_parent\"><img src=\"https://colab.research.google.com/assets/colab-badge.svg\" alt=\"Open In Colab\"/></a>"
      ]
    },
    {
      "cell_type": "code",
      "execution_count": null,
      "metadata": {
        "id": "Z6kO4FUzhR8z"
      },
      "outputs": [],
      "source": [
        "import tensorflow as tf\n",
        "from keras.datasets import fashion_mnist\n",
        "import matplotlib.pyplot as plt\n",
        "from tensorflow import keras\n",
        "from keras.layers import Dense, Conv2D, Activation, Flatten, MaxPooling2D\n",
        "\n",
        "from keras.preprocessing.image import ImageDataGenerator\n",
        "\n",
        "import matplotlib.pyplot as plt\n",
        "from keras.layers import Dense, Conv2D, Activation, Flatten, MaxPooling2D\n",
        "\n",
        "\n",
        "import time\n",
        "\n",
        "import os\n",
        "import glob\n",
        "import random\n",
        "import cv2 as cv\n",
        "import numpy as np\n",
        "import pandas as pd\n",
        "from PIL import Image\n",
        "from numpy import asarray\n",
        "\n",
        "\n",
        "\n",
        "#from tensorflow import keras\n",
        "from sklearn.model_selection import train_test_split\n",
        "\n",
        "from tensorflow import keras\n",
        "from keras import layers, models\n",
        "from keras.models import Sequential\n",
        "from keras.layers import Dense, Activation, Dropout\n",
        "from sklearn.model_selection import cross_val_score\n",
        "\n",
        "\n",
        "#EarlyStopping\n",
        "from keras.callbacks import EarlyStopping"
      ]
    },
    {
      "cell_type": "code",
      "execution_count": null,
      "metadata": {
        "colab": {
          "base_uri": "https://localhost:8080/"
        },
        "id": "mD0pWyGihaVD",
        "outputId": "eb6890cc-b05d-40f2-a6bf-e6f370d062af"
      },
      "outputs": [
        {
          "output_type": "stream",
          "name": "stdout",
          "text": [
            "Mounted at /content/gdrive\n"
          ]
        }
      ],
      "source": [
        "from google.colab import drive\n",
        "drive.mount('/content/gdrive')"
      ]
    },
    {
      "cell_type": "code",
      "execution_count": null,
      "metadata": {
        "id": "7oXU5nethzy4"
      },
      "outputs": [],
      "source": [
        "#gdrive_path --> Google drive path where the images are saved\n",
        "def structure_dataset(gdrive_path):\n",
        "  categories = 'blues classical country disco hiphop jazz metal pop reggae rock'.split()\n",
        "  data = []\n",
        "  label = []\n",
        "\n",
        "  for x in categories:\n",
        "      path = gdrive_path + f'/{x}' + '/*.png' \n",
        "      #used to check for extensions in folders\n",
        "      for file in glob.glob(path):\n",
        "        #reading the image and converting to greyscale\n",
        "        img = cv.imread(file, cv.IMREAD_GRAYSCALE)\n",
        "\n",
        "        #Resizing images\n",
        "        IMG_SIZE = 350\n",
        "        image = cv.resize(img, (IMG_SIZE, IMG_SIZE))\n",
        "\n",
        "        #Appends the image to the container holding the newly sized images\n",
        "        data.append(image)\n",
        "        #Converts image to an array\n",
        "        X = np.asarray(data)\n",
        "\n",
        "        #Appends array for each image to a container\n",
        "        label.append(x)\n",
        "\n",
        "        #Giving a numeric label to categories of image dataset\n",
        "        label_dict = {\n",
        "            'blues': 0,\n",
        "            'classical': 1,\n",
        "            'country': 2,\n",
        "            'disco': 3,\n",
        "            'hiphop': 4,\n",
        "            'jazz': 5,\n",
        "            'metal': 6,\n",
        "            'pop': 7,\n",
        "            'reggae': 8,\n",
        "            'rock': 9,\n",
        "        }\n",
        "\n",
        "        #mapping the image labels and the numeric labels created\n",
        "        y = np.array(list(map(label_dict.get, label)))\n",
        "\n",
        "  return X, y"
      ]
    },
    {
      "cell_type": "code",
      "execution_count": null,
      "metadata": {
        "id": "nc9-R92Wh3uS"
      },
      "outputs": [],
      "source": [
        "X,y = structure_dataset('/content/gdrive/MyDrive/input/CNN_data')"
      ]
    },
    {
      "cell_type": "code",
      "execution_count": null,
      "metadata": {
        "id": "qTiv2YMjh7pt"
      },
      "outputs": [],
      "source": [
        "X = np.array(X / 255.0)"
      ]
    },
    {
      "cell_type": "code",
      "execution_count": null,
      "metadata": {
        "id": "LE00zCTXh-dJ"
      },
      "outputs": [],
      "source": [
        "#x_train, x_test, y_train, y_test = train_test_split(X, y, test_size=0.3)\n",
        "#x_train = x_train.reshape(len(x_train), 360, 360, 1)\n",
        "#x_test = x_test.reshape(len(x_test), 360, 360, 1)"
      ]
    },
    {
      "cell_type": "code",
      "execution_count": null,
      "metadata": {
        "id": "KraBqPhhiFbh"
      },
      "outputs": [],
      "source": [
        "X = X.reshape(len(X), 350, 350, 1)\n"
      ]
    },
    {
      "cell_type": "code",
      "execution_count": null,
      "metadata": {
        "id": "O5_aKmubimjt"
      },
      "outputs": [],
      "source": [
        "#An approach to augument data by presenting different form of the data to the model\n",
        "datagen = ImageDataGenerator(\n",
        "        featurewise_center=False,  # set input mean to 0 over the dataset\n",
        "        samplewise_center=False,  # set each sample mean to 0\n",
        "        featurewise_std_normalization=False,  # divide inputs by std of the dataset\n",
        "        samplewise_std_normalization=False,  # divide each input by its std\n",
        "        zca_whitening=False,  # apply ZCA whitening\n",
        "        #rotation_range = 30,  # randomly rotate images in the range (degrees, 0 to 180)\n",
        "        zoom_range = 0.2, # Randomly zoom image \n",
        "        width_shift_range=0.1,  # randomly shift images horizontally (fraction of total width)\n",
        "        height_shift_range=0.1,  # randomly shift images vertically (fraction of total height)\n",
        "        #horizontal_flip = True,  # randomly flip images\n",
        "        vertical_flip=False)  # randomly flip images\n",
        "\n",
        "\n",
        "datagen.fit(X)"
      ]
    },
    {
      "cell_type": "code",
      "execution_count": null,
      "metadata": {
        "id": "zcgdSZowiNQF"
      },
      "outputs": [],
      "source": [
        "def build_model():\n",
        "  model = keras.models.Sequential()\n",
        "\n",
        "  model.add(Conv2D(32, (3,3), input_shape=X.shape[1:]))\n",
        "  model.add(Activation('relu'))\n",
        "  model.add(MaxPooling2D(pool_size=(2,2)))\n",
        "\n",
        "  model.add(Conv2D(32, (3,3)))\n",
        "  model.add(Activation('relu'))\n",
        "  model.add(MaxPooling2D(pool_size=(2,2)))\n",
        "  #model.add((Dropout(0.1)))\n",
        "\n",
        "  model.add(Flatten())\n",
        "\n",
        "  model.add(Dense(200, activation=\"relu\"))\n",
        "  #model.add((Dropout(0.2)))\n",
        "\n",
        "  model.add(Dense(150, activation=\"relu\"))\n",
        "  #model.add((Dropout(0.1)))\n",
        "\n",
        "  model.add(Dense(100, activation=\"relu\"))\n",
        "  #model.add((Dropout(0.1)))\n",
        "\n",
        "  model.add(Dense(50, activation=\"relu\"))\n",
        "  #model.add((Dropout(0.1)))\n",
        "\n",
        "\n",
        "  model.add(Dense(10))\n",
        "  model.add(Activation('softmax'))\n",
        "\n",
        "  model.compile(optimizer=\"adam\",\n",
        "                loss=\"sparse_categorical_crossentropy\",\n",
        "                metrics=[\"accuracy\"])\n",
        "  \n",
        "  return model"
      ]
    },
    {
      "cell_type": "code",
      "execution_count": null,
      "metadata": {
        "id": "lfAz8rY8SEA6"
      },
      "outputs": [],
      "source": [
        "from sklearn.model_selection import train_test_split, StratifiedKFold\n",
        "scores = []\n",
        "actual = []\n",
        "preds = []\n",
        "\n",
        "def evaluate_model(X, y):\n",
        "\n",
        "  kfold = StratifiedKFold(n_splits=10, random_state=random.seed(101), shuffle=True)\n",
        "\n",
        "  current_fold = 0\n",
        "  for train, test in kfold.split(X,y):\n",
        "      current_fold += 1\n",
        "      print('Training fold %d' % current_fold)\n",
        "      \n",
        "      model = build_model()\n",
        "      \n",
        "      train_X, train_y, test_X, test_y = X[train], y[train], X[test], y[test]\n",
        "\n",
        "      #Extract a 20% slot from training set for validation\n",
        "      tr, val = next(StratifiedKFold(n_splits=5, shuffle=True).split(train_X, train_y))\n",
        "      tr_X, tr_y, val_X, val_y = train_X[tr], train_y[tr], train_X[val], train_y[val]\n",
        "\n",
        "      Es = EarlyStopping(monitor='val_loss', mode='min', verbose=1, patience=10, restore_best_weights=True)\n",
        "\n",
        "      history = model.fit(tr_X, tr_y, epochs=100, batch_size=50, validation_data=(val_X, val_y), verbose=0, callbacks=[Es])\n",
        "      \n",
        "      _, acc = model.evaluate(test_X, test_y, verbose=0)\n",
        "\n",
        "      print('>> %.3f' % (acc * 100.0))\n",
        "\n",
        "      scores.append(acc)\n",
        "      preds.append(history)\n",
        "\n",
        "  print(\"%.2f%% (+/- %.2f%%)\" % (np.mean(scores), np.std(scores)))\n",
        "  return scores, preds"
      ]
    },
    {
      "cell_type": "code",
      "execution_count": null,
      "metadata": {
        "id": "S46eX5zuzCIW"
      },
      "outputs": [],
      "source": [
        "def summarize(histories):\n",
        "  for i in range(len(histories)):\n",
        "    plt.figure()\n",
        "    plt.subplot(211)\n",
        "    plt.title('Cross Entropy Loss')\n",
        "    plt.plot(histories[i].history['loss'], color='blue', label='train')\n",
        "    plt.plot(histories[i].history['val_loss'], color='red', label='val')\n",
        "\n",
        "    plt.subplot(212)\n",
        "    plt.title('Classification Accuracy')\n",
        "    plt.plot(histories[i].history['accuracy'], color='blue', label='train')\n",
        "    plt.plot(histories[i].history['val_loss'], color='red', label='val')\n",
        "    plt.show()"
      ]
    },
    {
      "cell_type": "code",
      "execution_count": null,
      "metadata": {
        "id": "t4rnXx-UzJCm"
      },
      "outputs": [],
      "source": [
        "def summarize_performance(scores):\n",
        "  print('Accuracy: mean=%.3f std=%.3f, n=%d' % (np.mean(scores)*100, np.std(scores)*100, len(scores)))\n",
        "  plt.boxplot(scores)\n",
        "  plt.show()"
      ]
    },
    {
      "cell_type": "code",
      "execution_count": null,
      "metadata": {
        "id": "g3isK3dezKVk"
      },
      "outputs": [],
      "source": [
        "def run():\n",
        "  scores, histories = evaluate_model(X, y)\n",
        "  summarize(histories)\n",
        "  summarize_performance(scores)"
      ]
    },
    {
      "cell_type": "code",
      "execution_count": null,
      "metadata": {
        "id": "3FGKcHpG1dA5"
      },
      "outputs": [],
      "source": [
        "run()"
      ]
    }
  ],
  "metadata": {
    "accelerator": "GPU",
    "colab": {
      "provenance": [],
      "authorship_tag": "ABX9TyMZ3R0HiQESrbnpLdh4fYmp",
      "include_colab_link": true
    },
    "kernelspec": {
      "display_name": "Python 3",
      "name": "python3"
    },
    "language_info": {
      "name": "python"
    }
  },
  "nbformat": 4,
  "nbformat_minor": 0
}