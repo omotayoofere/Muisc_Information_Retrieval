{
 "cells": [
  {
   "cell_type": "code",
   "execution_count": null,
   "id": "built-punch",
   "metadata": {},
   "outputs": [],
   "source": [
    "#Libraries for Analsis\n",
    "import pandas as pd\n",
    "import numpy as np\n",
    "import random\n",
    "\n",
    "#For Preprocessing\n",
    "from sklearn.preprocessing import LabelEncoder, StandardScaler\n",
    "from sklearn.model_selection import train_test_split, StratifiedKFold\n",
    "\n",
    "from sklearn.svm import SVC\n",
    "\n",
    "#Visualization libraries\n",
    "import matplotlib.pyplot as plt\n",
    "import seaborn as sns\n",
    "%matplotlib inline"
   ]
  },
  {
   "cell_type": "code",
   "execution_count": null,
   "id": "creative-confirmation",
   "metadata": {},
   "outputs": [],
   "source": [
    "#Reading dataset\n",
    "df_data = pd.read_csv('data.csv')\n",
    "\n",
    "#dropping unpromising columns\n",
    "df1_data = df_data.drop(['filename'], axis=1)\n",
    "    \n",
    "#Encoding the dependent column \n",
    "genre_list = df1_data.iloc[:, -1]\n",
    "encoder = LabelEncoder()\n",
    "y = encoder.fit_transform(genre_list)\n",
    "\n",
    "#Scaling the independent columns\n",
    "scaler = StandardScaler()\n",
    "X = scaler.fit_transform(np.array(df1_data.iloc[:, :-1], dtype=float))"
   ]
  },
  {
   "cell_type": "code",
   "execution_count": null,
   "id": "corrected-bronze",
   "metadata": {},
   "outputs": [],
   "source": [
    "test_X.shape"
   ]
  },
  {
   "cell_type": "code",
   "execution_count": null,
   "id": "sophisticated-chester",
   "metadata": {},
   "outputs": [],
   "source": [
    "test_y.shape"
   ]
  },
  {
   "cell_type": "code",
   "execution_count": null,
   "id": "complicated-design",
   "metadata": {},
   "outputs": [],
   "source": [
    "kfold = StratifiedKFold(n_splits=5, shuffle=True)\n",
    "\n",
    "for train, test in kfold.split(X,y):\n",
    "    \n",
    "    model = SVC(C=6, gamma=0.02, kernel='rbf')\n",
    "        \n",
    "    train_X, train_y, test_X, test_y = X[train], y[train], X[test], y[test]\n",
    "        \n",
    "\n",
    "    history = model.fit(train_X, train_y)\n",
    "    \n",
    "    rbf_predictions = history.predict(test_X)\n",
    "    \n",
    "    x = model.score(test_X, test_y)\n",
    "    \n",
    "    \n",
    "        \n",
    "from sklearn.metrics import confusion_matrix,classification_report\n",
    "\n",
    "print(confusion_matrix(test_y,rbf_predictions))\n",
    "print('\\n')\n",
    "print(classification_report(test_y,rbf_predictions))\n",
    "\n",
    "\n",
    "print(x)"
   ]
  },
  {
   "cell_type": "code",
   "execution_count": null,
   "id": "thrown-scope",
   "metadata": {},
   "outputs": [],
   "source": []
  }
 ],
 "metadata": {
  "kernelspec": {
   "display_name": "Python 3",
   "language": "python",
   "name": "python3"
  },
  "language_info": {
   "codemirror_mode": {
    "name": "ipython",
    "version": 3
   },
   "file_extension": ".py",
   "mimetype": "text/x-python",
   "name": "python",
   "nbconvert_exporter": "python",
   "pygments_lexer": "ipython3",
   "version": "3.7.0"
  }
 },
 "nbformat": 4,
 "nbformat_minor": 5
}
